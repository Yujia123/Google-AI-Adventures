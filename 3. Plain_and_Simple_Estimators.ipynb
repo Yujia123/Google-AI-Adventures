{
 "cells": [
  {
   "cell_type": "code",
   "execution_count": 1,
   "metadata": {
    "colab": {
     "base_uri": "https://localhost:8080/",
     "height": 34
    },
    "colab_type": "code",
    "id": "uaiWOd-GXPR4",
    "outputId": "6204d8bb-8e98-4b84-fd71-353ffa46576f"
   },
   "outputs": [
    {
     "name": "stdout",
     "output_type": "stream",
     "text": [
      "1.10.0\n"
     ]
    }
   ],
   "source": [
    "import tensorflow as tf\n",
    "import numpy as np\n",
    "\n",
    "print(tf.__version__)"
   ]
  },
  {
   "cell_type": "code",
   "execution_count": 2,
   "metadata": {
    "colab": {},
    "colab_type": "code",
    "id": "aUHAqvidXUVR"
   },
   "outputs": [
    {
     "name": "stdout",
     "output_type": "stream",
     "text": [
      "WARNING:tensorflow:From <ipython-input-2-1aedaf553863>:9: load_csv_with_header (from tensorflow.contrib.learn.python.learn.datasets.base) is deprecated and will be removed in a future version.\n",
      "Instructions for updating:\n",
      "Use tf.data instead.\n"
     ]
    }
   ],
   "source": [
    "from tensorflow.contrib.learn.python.learn.datasets import base\n",
    "\n",
    "IRIS_TRAINING = \"iris_training.csv\"\n",
    "IRIS_TEST = \"iris_test.csv\"\n",
    "\n",
    "# Load datasets\n",
    "training_set = base.load_csv_with_header(filename=IRIS_TRAINING,\n",
    "                                         features_dtype=np.float32,\n",
    "                                         target_dtype=np.int)\n",
    "test_set = base.load_csv_with_header(filename=IRIS_TEST,\n",
    "                                     features_dtype=np.float32,\n",
    "                                     target_dtype=np.int)"
   ]
  },
  {
   "cell_type": "code",
   "execution_count": 3,
   "metadata": {
    "colab": {
     "base_uri": "https://localhost:8080/",
     "height": 171
    },
    "colab_type": "code",
    "id": "RLDsPQGBZTB2",
    "outputId": "05b0e8e6-83da-4096-dc48-04b450b2ca1b"
   },
   "outputs": [
    {
     "name": "stdout",
     "output_type": "stream",
     "text": [
      "INFO:tensorflow:Using default config.\n",
      "INFO:tensorflow:Using config: {'_model_dir': '/tmp/iris_model', '_tf_random_seed': None, '_save_summary_steps': 100, '_save_checkpoints_steps': None, '_save_checkpoints_secs': 600, '_session_config': None, '_keep_checkpoint_max': 5, '_keep_checkpoint_every_n_hours': 10000, '_log_step_count_steps': 100, '_train_distribute': None, '_device_fn': None, '_service': None, '_cluster_spec': <tensorflow.python.training.server_lib.ClusterSpec object at 0x00000184158FF278>, '_task_type': 'worker', '_task_id': 0, '_global_id_in_cluster': 0, '_master': '', '_evaluation_master': '', '_is_chief': True, '_num_ps_replicas': 0, '_num_worker_replicas': 1}\n"
     ]
    }
   ],
   "source": [
    "# Specify that all features have real-value data\n",
    "\n",
    "feature_name = \"flower_features\"\n",
    "feature_columns = [tf.feature_column.numeric_column(feature_name, shape=[4])]\n",
    "\n",
    "classifier = tf.estimator.LinearClassifier(\n",
    "      feature_columns=feature_columns,\n",
    "      n_classes=3,\n",
    "      model_dir = \"/tmp/iris_model\")\n"
   ]
  },
  {
   "cell_type": "code",
   "execution_count": 6,
   "metadata": {
    "colab": {
     "base_uri": "https://localhost:8080/",
     "height": 54
    },
    "colab_type": "code",
    "id": "eHFki0CPa0cU",
    "outputId": "eb7bd6e0-4bee-435c-ad01-b50f0e782102"
   },
   "outputs": [
    {
     "name": "stdout",
     "output_type": "stream",
     "text": [
      "({'flower_features': <tf.Tensor 'Const:0' shape=(120, 4) dtype=float32>}, <tf.Tensor 'Const_1:0' shape=(120,) dtype=int32>)\n"
     ]
    }
   ],
   "source": [
    "def input_fn(dataset):\n",
    "    def _fn():\n",
    "        features = {feature_name: tf.constant(dataset.data)}\n",
    "        label = tf.constant(dataset.target)\n",
    "        return features, label\n",
    "    return _fn\n",
    "\n",
    "print(input_fn(training_set)())\n",
    "\n",
    "# raw data -> input function -> feature columns -> model"
   ]
  },
  {
   "cell_type": "code",
   "execution_count": 7,
   "metadata": {
    "colab": {
     "base_uri": "https://localhost:8080/",
     "height": 625
    },
    "colab_type": "code",
    "id": "cuoEqTH7cIaC",
    "outputId": "366d9ea3-d401-4ee3-beae-84f01a9caa0b"
   },
   "outputs": [
    {
     "name": "stdout",
     "output_type": "stream",
     "text": [
      "INFO:tensorflow:Calling model_fn.\n",
      "INFO:tensorflow:Done calling model_fn.\n",
      "INFO:tensorflow:Create CheckpointSaverHook.\n",
      "INFO:tensorflow:Graph was finalized.\n",
      "INFO:tensorflow:Running local_init_op.\n",
      "INFO:tensorflow:Done running local_init_op.\n",
      "INFO:tensorflow:Saving checkpoints for 0 into /tmp/iris_model\\model.ckpt.\n",
      "INFO:tensorflow:loss = 131.83345, step = 1\n",
      "INFO:tensorflow:global_step/sec: 1290.2\n",
      "INFO:tensorflow:loss = 37.13907, step = 101 (0.079 sec)\n",
      "INFO:tensorflow:global_step/sec: 1683.33\n",
      "INFO:tensorflow:loss = 27.85937, step = 201 (0.059 sec)\n",
      "INFO:tensorflow:global_step/sec: 1600.09\n",
      "INFO:tensorflow:loss = 23.044888, step = 301 (0.063 sec)\n",
      "INFO:tensorflow:global_step/sec: 1766.53\n",
      "INFO:tensorflow:loss = 20.05803, step = 401 (0.057 sec)\n",
      "INFO:tensorflow:global_step/sec: 1767.53\n",
      "INFO:tensorflow:loss = 18.008251, step = 501 (0.057 sec)\n",
      "INFO:tensorflow:global_step/sec: 1551.56\n",
      "INFO:tensorflow:loss = 16.505016, step = 601 (0.065 sec)\n",
      "INFO:tensorflow:global_step/sec: 1193.02\n",
      "INFO:tensorflow:loss = 15.349609, step = 701 (0.084 sec)\n",
      "INFO:tensorflow:global_step/sec: 1493.43\n",
      "INFO:tensorflow:loss = 14.43004, step = 801 (0.066 sec)\n",
      "INFO:tensorflow:global_step/sec: 1419.84\n",
      "INFO:tensorflow:loss = 13.678242, step = 901 (0.070 sec)\n",
      "INFO:tensorflow:Saving checkpoints for 1000 into /tmp/iris_model\\model.ckpt.\n",
      "INFO:tensorflow:Loss for final step: 13.056149.\n",
      "fit done\n"
     ]
    }
   ],
   "source": [
    "# Fit model\n",
    "\n",
    "classifier.train(input_fn=input_fn(training_set), steps=1000)\n",
    "print(\"fit done\")"
   ]
  },
  {
   "cell_type": "code",
   "execution_count": 8,
   "metadata": {
    "colab": {
     "base_uri": "https://localhost:8080/",
     "height": 218
    },
    "colab_type": "code",
    "id": "uLp-jyQDce6J",
    "outputId": "d2422822-09be-4dd8-94e6-23503cc24f16"
   },
   "outputs": [
    {
     "name": "stdout",
     "output_type": "stream",
     "text": [
      "INFO:tensorflow:Calling model_fn.\n",
      "INFO:tensorflow:Done calling model_fn.\n",
      "INFO:tensorflow:Starting evaluation at 2019-02-28-23:41:42\n",
      "INFO:tensorflow:Graph was finalized.\n",
      "INFO:tensorflow:Restoring parameters from /tmp/iris_model\\model.ckpt-1000\n",
      "INFO:tensorflow:Running local_init_op.\n",
      "INFO:tensorflow:Done running local_init_op.\n",
      "INFO:tensorflow:Evaluation [10/100]\n",
      "INFO:tensorflow:Evaluation [20/100]\n",
      "INFO:tensorflow:Evaluation [30/100]\n",
      "INFO:tensorflow:Evaluation [40/100]\n",
      "INFO:tensorflow:Evaluation [50/100]\n",
      "INFO:tensorflow:Evaluation [60/100]\n",
      "INFO:tensorflow:Evaluation [70/100]\n",
      "INFO:tensorflow:Evaluation [80/100]\n",
      "INFO:tensorflow:Evaluation [90/100]\n",
      "INFO:tensorflow:Evaluation [100/100]\n",
      "INFO:tensorflow:Finished evaluation at 2019-02-28-23:41:42\n",
      "INFO:tensorflow:Saving dict for global step 1000: accuracy = 0.96666664, average_loss = 0.12096449, global_step = 1000, loss = 3.6289346\n",
      "INFO:tensorflow:Saving 'checkpoint_path' summary for global step 1000: /tmp/iris_model\\model.ckpt-1000\n",
      "\n",
      "Accuracy:0.966667\n"
     ]
    }
   ],
   "source": [
    "# Evaluate accuarcy\n",
    "\n",
    "accuracy_score = classifier.evaluate(input_fn=input_fn(test_set), steps=100)[\"accuracy\"]\n",
    "print('\\nAccuracy:{0:f}'.format(accuracy_score))"
   ]
  },
  {
   "cell_type": "code",
   "execution_count": null,
   "metadata": {
    "colab": {},
    "colab_type": "code",
    "id": "UlX8ONmQc1HP"
   },
   "outputs": [],
   "source": [
    "# Estimators review\n",
    "\n",
    "'''\n",
    "# Load datasets.\n",
    "training_data = load_csv_with_header()\n",
    "\n",
    "# define input functions\n",
    "def input_fn(dataset):\n",
    "\n",
    "# Define feature columns\n",
    "feature_columns = [tf.feature_column.numeric_column(feature_name, shape=[4])]\n",
    "\n",
    "# Create model\n",
    "classifier = tf.estimator.LinearClassifier()\n",
    "\n",
    "# Train\n",
    "classifier.train()\n",
    "\n",
    "# Evaluate\n",
    "classifier.evaluate()\n",
    "\n",
    "'''"
   ]
  },
  {
   "cell_type": "markdown",
   "metadata": {},
   "source": [
    "参考: [用深度神经网络对Iris数据集进行分类的程序--tensorflow](https://blog.csdn.net/youyuyixiu/article/details/71422130)"
   ]
  },
  {
   "cell_type": "code",
   "execution_count": null,
   "metadata": {},
   "outputs": [],
   "source": []
  }
 ],
 "metadata": {
  "colab": {
   "name": "Plain_and_Simple_Estimators.ipynb",
   "provenance": [],
   "version": "0.3.2"
  },
  "kernelspec": {
   "display_name": "Python 3",
   "language": "python",
   "name": "python3"
  },
  "language_info": {
   "codemirror_mode": {
    "name": "ipython",
    "version": 3
   },
   "file_extension": ".py",
   "mimetype": "text/x-python",
   "name": "python",
   "nbconvert_exporter": "python",
   "pygments_lexer": "ipython3",
   "version": "3.6.5"
  }
 },
 "nbformat": 4,
 "nbformat_minor": 1
}
